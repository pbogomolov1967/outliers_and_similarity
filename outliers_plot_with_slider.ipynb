{
 "cells": [
  {
   "cell_type": "markdown",
   "metadata": {},
   "source": [
    "#### Select outliers dynamic demo\n",
    "\n",
    "Below a demo for just one cluster (group) of data points. This demo shows how to select outliers by given a predefined number of outliers in term of STDs.\n",
    "\n",
    "- Run all cells the cell below and\n",
    "- Move the slider using your mouse\n",
    "\n",
    "Moving the slider you change the number of STDs and select outliers those greater than a given number of outliers."
   ]
  },
  {
   "cell_type": "code",
   "execution_count": 1,
   "metadata": {
    "scrolled": true
   },
   "outputs": [
    {
     "data": {
      "application/vnd.jupyter.widget-view+json": {
       "model_id": "df66012c3f3e489888b592c3ccb3b1a2",
       "version_major": 2,
       "version_minor": 0
      },
      "text/plain": [
       "interactive(children=(FloatSlider(value=3.797641378129694, description='STDs', max=3.797641378129694), Output(…"
      ]
     },
     "metadata": {},
     "output_type": "display_data"
    }
   ],
   "source": [
    "from outliers_plot_with_slider import run_demo_nb\n",
    "run_demo_nb()"
   ]
  }
 ],
 "metadata": {
  "kernelspec": {
   "display_name": "Python 3",
   "language": "python",
   "name": "python3"
  },
  "language_info": {
   "codemirror_mode": {
    "name": "ipython",
    "version": 3
   },
   "file_extension": ".py",
   "mimetype": "text/x-python",
   "name": "python",
   "nbconvert_exporter": "python",
   "pygments_lexer": "ipython3",
   "version": "3.7.3"
  }
 },
 "nbformat": 4,
 "nbformat_minor": 2
}
