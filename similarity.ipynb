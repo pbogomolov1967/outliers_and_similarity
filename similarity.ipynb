{
 "cells": [
  {
   "cell_type": "markdown",
   "metadata": {},
   "source": [
    "Sample how to use similarity in the cluster to calculate the weighted average price for a particular data point."
   ]
  },
  {
   "cell_type": "code",
   "execution_count": 1,
   "metadata": {},
   "outputs": [],
   "source": [
    "import matplotlib.pyplot as plt\n",
    "import numpy as np\n",
    "from sklearn.cluster import KMeans\n",
    "from sklearn.datasets import make_blobs\n",
    "from sklearn.metrics import euclidean_distances\n",
    "from util_distances_in_clusters import plot_kmeans, annotate_data_points2"
   ]
  },
  {
   "cell_type": "code",
   "execution_count": 2,
   "metadata": {},
   "outputs": [
    {
     "name": "stdout",
     "output_type": "stream",
     "text": [
      "[[5.46720613 1.09150494]\n",
      " [4.18270156 1.73634081]\n",
      " [4.63226613 0.893695  ]\n",
      " [3.52196502 2.47031647]\n",
      " [6.09650189 1.75926047]]\n"
     ]
    }
   ],
   "source": [
    "# Generate data\n",
    "np.random.seed(0)\n",
    "data, y_true = make_blobs(n_samples=5, centers=1, cluster_std=0.80, random_state=0)\n",
    "data = data[:, ::-1]  # flip axes for better plotting\n",
    "print(data)"
   ]
  },
  {
   "cell_type": "code",
   "execution_count": 3,
   "metadata": {},
   "outputs": [],
   "source": [
    "# Choose a data point\n",
    "ix = 3\n",
    "x = data[ix]\n",
    "colors = np.zeros(data.shape[0])\n",
    "colors[ix] = 1"
   ]
  },
  {
   "cell_type": "code",
   "execution_count": 4,
   "metadata": {},
   "outputs": [],
   "source": [
    "# Calculate distances to our X point\n",
    "distances = euclidean_distances(data, [x])\n",
    "distances = [d[0] for d in distances]"
   ]
  },
  {
   "cell_type": "code",
   "execution_count": 5,
   "metadata": {},
   "outputs": [
    {
     "name": "stdout",
     "output_type": "stream",
     "text": [
      "prices: [120.0, 80.0, 80.0, 60.0, 50.0]\n",
      "similarity_weights: [0.10729750650092984, 0.6302519788079537, 0.27802458002068997, 1.0, 0.0]\n"
     ]
    }
   ],
   "source": [
    "# Set prices and caclulate sililarity\n",
    "distances_max = np.max(distances)\n",
    "similarity_weights = [1. - d / distances_max for d in distances]\n",
    "prices = [120., 80., 80., 60., 50.]\n",
    "print(f'prices: {prices}')\n",
    "print(f'similarity_weights: {similarity_weights}')"
   ]
  },
  {
   "cell_type": "code",
   "execution_count": 6,
   "metadata": {},
   "outputs": [
    {
     "name": "stdout",
     "output_type": "stream",
     "text": [
      "price was 60.0 and now it is as weighted_avg_price=72.2\n"
     ]
    }
   ],
   "source": [
    "# Calculate weighted_avg_price\n",
    "weighted_avg_price = np.average(prices, weights=similarity_weights)\n",
    "print(f'price was {prices[ix]} and now it is as weighted_avg_price={round(weighted_avg_price,1)}')\n",
    "prices[3] = weighted_avg_price"
   ]
  },
  {
   "cell_type": "code",
   "execution_count": 7,
   "metadata": {},
   "outputs": [
    {
     "name": "stdout",
     "output_type": "stream",
     "text": [
      "you see the yellow data point was slightly underpriced!!!\n"
     ]
    },
    {
     "data": {
      "image/png": "[encoded data removed]",
      "text/plain": [
       "<Figure size 432x288 with 1 Axes>"
      ]
     },
     "metadata": {
      "needs_background": "light"
     },
     "output_type": "display_data"
    }
   ],
   "source": [
    "# Show data\n",
    "kmeans = KMeans(n_clusters=1, random_state=0)\n",
    "ax = plot_kmeans(plt, kmeans, data, title='Similarity', colors=colors)\n",
    "annotate_data_points2(plt, data, prices, ax=ax)\n",
    "print(f'you see the yellow data point was slightly underpriced!!!')"
   ]
  }
 ],
 "metadata": {
  "kernelspec": {
   "display_name": "Python 3",
   "language": "python",
   "name": "python3"
  },
  "language_info": {
   "codemirror_mode": {
    "name": "ipython",
    "version": 3
   },
   "file_extension": ".py",
   "mimetype": "text/x-python",
   "name": "python",
   "nbconvert_exporter": "python",
   "pygments_lexer": "ipython3",
   "version": "3.7.3"
  }
 },
 "nbformat": 4,
 "nbformat_minor": 2
}
